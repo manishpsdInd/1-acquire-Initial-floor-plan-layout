{
 "cells": [
  {
   "cell_type": "code",
   "id": "initial_id",
   "metadata": {
    "collapsed": true,
    "ExecuteTime": {
     "end_time": "2025-05-10T10:51:08.019397Z",
     "start_time": "2025-05-10T10:51:08.017490Z"
    }
   },
   "source": [
    "import numpy as np\n",
    "import matplotlib.pyplot as plt\n",
    "\n",
    "import tensorflow as tf\n",
    "import tensorflow.keras as layers #, Model"
   ],
   "outputs": [],
   "execution_count": 15
  },
  {
   "metadata": {
    "ExecuteTime": {
     "end_time": "2025-05-10T10:42:51.052152Z",
     "start_time": "2025-05-10T10:42:51.046790Z"
    }
   },
   "cell_type": "code",
   "source": [
    "N_max=5\n",
    "M=1\n",
    "lambda_ = 0.1\n",
    "a = lambda_ / 4\n",
    "Sigma_square_Real = 0.7 # variance of real part\n",
    "Sigma_square_Img = 0.7 # variarance of imaginary part\n",
    "mean_Real = 0.6742 # mean of real part\n",
    "mean_Img = 0.6742 # mean of imaginary part"
   ],
   "id": "44c49a2705a62aeb",
   "outputs": [],
   "execution_count": 3
  },
  {
   "metadata": {
    "ExecuteTime": {
     "end_time": "2025-05-10T10:43:29.039560Z",
     "start_time": "2025-05-10T10:43:29.034872Z"
    }
   },
   "cell_type": "code",
   "source": [
    "grid_points = np.arange(N_max) * a\n",
    "locations = grid_points[:, None] + 1j * grid_points\n",
    "locations = locations.flatten()\n",
    "N = len(locations)"
   ],
   "id": "9b440e40891bc88",
   "outputs": [],
   "execution_count": 5
  },
  {
   "metadata": {
    "ExecuteTime": {
     "end_time": "2025-05-10T10:43:35.355592Z",
     "start_time": "2025-05-10T10:43:35.349871Z"
    }
   },
   "cell_type": "code",
   "source": [
    "R = np.zeros((N, N), dtype=complex)\n",
    "for p in range(N):\n",
    "    for q in range(N):\n",
    "        R[p, q] = np.sinc(2 * abs(locations[p] - locations[q]) / lambda_)"
   ],
   "id": "fee0482e639c03c5",
   "outputs": [],
   "execution_count": 6
  },
  {
   "metadata": {},
   "cell_type": "code",
   "outputs": [],
   "execution_count": null,
   "source": [
    "snr_range = np.arange(-10, 40, 1) # SNR values from -10 dB to 40 dB\n",
    "num_samples_per_snr = 2000\n",
    "channels = []\n",
    "labels = []\n",
    "for SNR_dB in snr_range:\n",
    "    SNR_linear = 10 ** (SNR_dB / 10) (SNR_dB / 10)\n",
    "    noise_var = 1 / SNR_linear\n",
    "for _ in range(num_samples_per_snr):\n",
    "    h_BS_IRS = (np. random.multivariate_normal(mean_Real * np.ones(N), Sigma_square_Real * R) +\n",
    "1j * np.random.multivariate_normal(mean_Img * np.ones(N), Sigma_square_Img * R))\n",
    "g_IRS_UE = (np.random.multivariate_normal(mean_Real * np.ones(N), Sigma_square_Real * R) +\n",
    "1j * np. random.multivariate_normal(mean_Img * np.ones(N), Sigma_square_Img * R))"
   ],
   "id": "498efdfc53b1c78f"
  },
  {
   "metadata": {},
   "cell_type": "code",
   "outputs": [],
   "execution_count": null,
   "source": [
    "SNR_linear = 10 ** (random_snr_dB / 10)\n",
    "noise_var = 1 / SNR_linear\n",
    "h_BS_IRS = (np.random.multivariate_normal(mean_Real * np.ones(N), Sigma_square_Real * R, num_test_samples) +\n",
    "1j * np.random.multivariate_normal(mean_Img * np.ones(N), Sigma_square_Img * R, num_test_samples) )\n",
    "g_IRS_UE = (np.random.multivariate_normal(mean_Real * np.ones(N), Sigma_square_Real * R, num_test_samples) +\n",
    "1j * np.random.multivariate_normal(mean_Img * np.ones(N), Sigma_square_Img * R, num_test_samples))\n",
    "H_cascaded_test = g_IRS_UE * h_BS_IRS\n",
    "noise = np.sqrt(noise_var / 2) * (np.random.randn(num_test_samples, pilot) + 1j * np.random.randn(num_test_samples, pilot\n",
    "Y = H_cascaded_test @ pilot_matrix_test + noise\n",
    "padding = N-Y.shape[1]\n",
    "padded_Y_test= np.pad(Y, ((0, 0), (0, padding)), mode='constant')\n",
    "Y_test_real=np.hstack([np.real(padded_Y_test), np.imag(padded_Y_test)])\n",
    "# Predict channels using the neural network\n",
    "H_pred = model(Y_test_real)\n",
    "H_pred_np = H_pred.numpy() # Ensure \"X_pred' is a NumPy array"
   ],
   "id": "f988a255f794e4e"
  }
 ],
 "metadata": {
  "kernelspec": {
   "display_name": "Python 3",
   "language": "python",
   "name": "python3"
  },
  "language_info": {
   "codemirror_mode": {
    "name": "ipython",
    "version": 2
   },
   "file_extension": ".py",
   "mimetype": "text/x-python",
   "name": "python",
   "nbconvert_exporter": "python",
   "pygments_lexer": "ipython2",
   "version": "2.7.6"
  }
 },
 "nbformat": 4,
 "nbformat_minor": 5
}
